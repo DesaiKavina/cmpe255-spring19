{
 "cells": [
  {
   "cell_type": "code",
   "execution_count": 14,
   "metadata": {},
   "outputs": [
    {
     "name": "stdout",
     "output_type": "stream",
     "text": [
      "The names of people and their number of friends are : \n",
      "\n",
      "Hicks has 2 friends\n",
      "Hero has 2 friends\n",
      "Dunn has 2 friends\n",
      "Thor has 1 friends\n",
      "Sue has 1 friends\n",
      "Kate has 1 friends\n",
      "Devin has 1 friends\n",
      "Clive has 1 friends\n",
      "Chi has 1 friends\n",
      "Klein has 0 friends\n"
     ]
    }
   ],
   "source": [
    "users =[\n",
    "    { \"id\":0, \"name\": \"Hero\" },\n",
    "    { \"id\":1, \"name\": \"Dunn\" },\n",
    "    { \"id\":2, \"name\": \"Sue\" },\n",
    "    { \"id\":3, \"name\": \"Chi\" },\n",
    "    { \"id\":4, \"name\": \"Thor\" },\n",
    "    { \"id\":5, \"name\": \"Clive\" },\n",
    "    { \"id\":6, \"name\": \"Hicks\" },\n",
    "    { \"id\":7, \"name\": \"Devin\" },\n",
    "    { \"id\":8, \"name\": \"Kate\" },\n",
    "    { \"id\":9, \"name\": \"Klein\" }    \n",
    "]\n",
    "\n",
    "friendship = [\n",
    "    (0, 1),\n",
    "    (0, 2),\n",
    "    (1, 2),\n",
    "    (1, 3),\n",
    "    (2, 3),\n",
    "    (3, 4),\n",
    "    (4, 5),\n",
    "    (5, 6),\n",
    "    (6, 7),\n",
    "    (6, 8),\n",
    "    (7, 8),\n",
    "    (8, 9)\n",
    "]\n",
    "\n",
    "def num_friends(user):\n",
    "    count = 0\n",
    "    for i in range(len(friendship)):\n",
    "        if user == friendship[i][0]:\n",
    "            count = count + 1\n",
    "    return count\n",
    "    pass\n",
    "\n",
    "ans = []\n",
    "def sort_by_num_friends():\n",
    "    for j in range(len(users)):\n",
    "        val = num_friends(users[j][\"id\"])\n",
    "        ans.append((val, users[j][\"name\"]))   \n",
    "    pass\n",
    "\n",
    "sort_by_num_friends()\n",
    "ans1 = sorted(ans, reverse=True)\n",
    "print(\"The names of people and their number of friends are : \\n\")\n",
    "for itr in range(len(ans1)):\n",
    "    print(\"{} has {} friends\".format(ans1[itr][1],ans1[itr][0]))"
   ]
  },
  {
   "cell_type": "code",
   "execution_count": null,
   "metadata": {
    "collapsed": true
   },
   "outputs": [],
   "source": []
  }
 ],
 "metadata": {
  "kernelspec": {
   "display_name": "Python 2",
   "language": "python",
   "name": "python2"
  },
  "language_info": {
   "codemirror_mode": {
    "name": "ipython",
    "version": 2
   },
   "file_extension": ".py",
   "mimetype": "text/x-python",
   "name": "python",
   "nbconvert_exporter": "python",
   "pygments_lexer": "ipython2",
   "version": "2.7.11"
  }
 },
 "nbformat": 4,
 "nbformat_minor": 2
}
