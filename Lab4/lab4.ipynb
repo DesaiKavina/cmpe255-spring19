{
 "cells": [
  {
   "cell_type": "code",
   "execution_count": 3,
   "metadata": {},
   "outputs": [
    {
     "name": "stdout",
     "output_type": "stream",
     "text": [
      "(70000, 784)\n",
      "(70000,)\n",
      "\n",
      "---------- TESTCASE 1 ----------\n",
      "Saving figure some_digit_plot\n"
     ]
    },
    {
     "data": {
      "image/png": "[encoded data removed]",
      "text/plain": [
       "<Figure size 432x288 with 1 Axes>"
      ]
     },
     "metadata": {
      "needs_background": "light"
     },
     "output_type": "display_data"
    },
    {
     "name": "stdout",
     "output_type": "stream",
     "text": [
      "The number is :  6\n",
      "\n",
      "---------- TESTCASE 2 ----------\n",
      "Saving figure some_digit_plot_2\n"
     ]
    },
    {
     "data": {
      "image/png": "[encoded data removed]",
      "text/plain": [
       "<Figure size 432x288 with 1 Axes>"
      ]
     },
     "metadata": {
      "needs_background": "light"
     },
     "output_type": "display_data"
    },
    {
     "name": "stdout",
     "output_type": "stream",
     "text": [
      "The number is :  5\n",
      "\n",
      "Predicting for some_value_1 (6)\n",
      "['Even']\n",
      "\n",
      "Predicting for some_value_2 (5)\n",
      "['Odd']\n"
     ]
    }
   ],
   "source": [
    "from __future__ import division, print_function, unicode_literals\n",
    "\n",
    "# Common imports\n",
    "import numpy as np\n",
    "import os\n",
    "%matplotlib inline\n",
    "\n",
    "# to make this notebook's output stable across runs\n",
    "np.random.seed(42)\n",
    "\n",
    "# To plot pretty figures\n",
    "%matplotlib inline\n",
    "import matplotlib as mpl\n",
    "import matplotlib.pyplot as plt\n",
    "mpl.rc('axes', labelsize=14)\n",
    "mpl.rc('xtick', labelsize=12)\n",
    "mpl.rc('ytick', labelsize=12)\n",
    "\n",
    "# Where to save the figures\n",
    "PROJECT_ROOT_DIR = \".\"\n",
    "# CHAPTER_ID = \"classification\"\n",
    "\n",
    "def save_fig(fig_id, tight_layout=True):\n",
    "    path = os.path.join(PROJECT_ROOT_DIR, \"images\", fig_id + \".png\")\n",
    "    print(\"Saving figure\", fig_id)\n",
    "    if tight_layout:\n",
    "        plt.tight_layout()\n",
    "    plt.savefig(path, format='png', dpi=300)\n",
    "\n",
    "def sort_by_target(mnist):\n",
    "    reorder_train = np.array(sorted([(target, i) for i, target in enumerate(mnist.target[:60000])]))[:, 1]\n",
    "    reorder_test = np.array(sorted([(target, i) for i, target in enumerate(mnist.target[60000:])]))[:, 1]\n",
    "    mnist.data[:60000] = mnist.data[reorder_train]\n",
    "    mnist.target[:60000] = mnist.target[reorder_train]\n",
    "    mnist.data[60000:] = mnist.data[reorder_test + 60000]\n",
    "    mnist.target[60000:] = mnist.target[reorder_test + 60000]\n",
    "    \n",
    "try:\n",
    "    from sklearn.datasets import fetch_openml\n",
    "    mnist = fetch_openml('mnist_784', version=1, cache=True)\n",
    "    mnist.target = mnist.target.astype(np.int8) # fetch_openml() returns targets as strings\n",
    "    sort_by_target(mnist) # fetch_openml() returns an unsorted dataset\n",
    "except ImportError:\n",
    "    from sklearn.datasets import fetch_mldata\n",
    "    mnist = fetch_mldata('MNIST original')\n",
    "mnist[\"data\"], mnist[\"target\"]\n",
    "\n",
    "# print(mnist.data.shape)\n",
    "# print(mnist.target.shape)\n",
    "\n",
    "X, y = mnist[\"data\"], mnist[\"target\"]\n",
    "print(X.shape)\n",
    "print(y.shape)\n",
    "\n",
    "some_digit = X[41000]\n",
    "some_digit_image = some_digit.reshape(28, 28)\n",
    "# plt.imshow(some_digit_image, cmap = mpl.cm.binary,\n",
    "#            interpolation=\"nearest\")\n",
    "# plt.axis(\"off\")\n",
    "# save_fig(\"some_digit_plot\")\n",
    "# plt.show()\n",
    "\n",
    "some_digit_2 = X[36000]\n",
    "some_digit_image_2 = some_digit_2.reshape(28, 28)\n",
    "# plt.imshow(some_digit_image_2, cmap = mpl.cm.binary,\n",
    "#            interpolation=\"nearest\")\n",
    "# plt.axis(\"off\")\n",
    "\n",
    "# save_fig(\"some_digit_plot_2\")\n",
    "# plt.show()\n",
    "\n",
    "import numpy\n",
    "X_train, X_test, y_train, y_test = X[:60000], X[60000:], y[:60000], y[60000:]\n",
    "\n",
    "odd_even_train = []\n",
    "odd_even_test = []\n",
    "\n",
    "for i in range(len(y_train)):\n",
    "    if y_train[i] % 2 == 0:\n",
    "        odd_even_train.append(\"Even\")\n",
    "    else:\n",
    "        odd_even_train.append(\"Odd\")\n",
    "        \n",
    "for i in range(len(y_test)):\n",
    "    if y_test[i] % 2 == 0:\n",
    "        odd_even_test.append(\"Even\")\n",
    "    else:\n",
    "        odd_even_test.append(\"Odd\")\n",
    "        \n",
    "odd_even_train = numpy.array(odd_even_train)\n",
    "odd_even_test = numpy.array(odd_even_test)\n",
    "        \n",
    "print(\"\\n---------- TESTCASE 1 ----------\")\n",
    "plt.imshow(some_digit_image, cmap = mpl.cm.binary,\n",
    "           interpolation=\"nearest\")\n",
    "plt.axis(\"off\")\n",
    "save_fig(\"some_digit_plot\")\n",
    "plt.show()\n",
    "print(\"The number is : \",y_train[41000])        \n",
    "print(\"\\n---------- TESTCASE 2 ----------\")\n",
    "plt.imshow(some_digit_image_2, cmap = mpl.cm.binary,\n",
    "           interpolation=\"nearest\")\n",
    "plt.axis(\"off\")\n",
    "\n",
    "save_fig(\"some_digit_plot_2\")\n",
    "plt.show()\n",
    "print(\"The number is : \",y_train[36000])        \n",
    "\n",
    "y_train = odd_even_train\n",
    "y_test = odd_even_test\n",
    "\n",
    "########################## BINARY CLASSIFIER ###########################\n",
    "\n",
    "from sklearn.linear_model import SGDClassifier\n",
    "\n",
    "sgd_clf = SGDClassifier(max_iter=5, tol=-np.infty, random_state=42)\n",
    "# sgd_clf.fit(X_train, y_train_5)\n",
    "sgd_clf.fit(X_train, y_train)\n",
    "\n",
    "print(\"\\nPredicting for some_value_1 (6)\")\n",
    "ans1 = sgd_clf.predict([some_digit])\n",
    "print(ans1)\n",
    "\n",
    "print(\"\\nPredicting for some_value_2 (5)\")\n",
    "ans2 = sgd_clf.predict([some_digit_2])\n",
    "print(ans2)"
   ]
  },
  {
   "cell_type": "code",
   "execution_count": null,
   "metadata": {},
   "outputs": [],
   "source": []
  }
 ],
 "metadata": {
  "kernelspec": {
   "display_name": "Python 3",
   "language": "python",
   "name": "python3"
  },
  "language_info": {
   "codemirror_mode": {
    "name": "ipython",
    "version": 3
   },
   "file_extension": ".py",
   "mimetype": "text/x-python",
   "name": "python",
   "nbconvert_exporter": "python",
   "pygments_lexer": "ipython3",
   "version": "3.7.1"
  }
 },
 "nbformat": 4,
 "nbformat_minor": 2
}
