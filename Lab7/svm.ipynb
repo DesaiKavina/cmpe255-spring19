{
 "cells": [
  {
   "cell_type": "code",
   "execution_count": 46,
   "metadata": {},
   "outputs": [],
   "source": [
    "import sys\n",
    "import numpy as np\n",
    "import matplotlib.pyplot as plt\n",
    "import pandas as pd \n",
    "from sklearn.svm import SVC\n",
    "from sklearn.model_selection import train_test_split \n",
    "from sklearn.metrics import classification_report, confusion_matrix, accuracy_score \n",
    "from sklearn.pipeline import Pipeline\n",
    "from sklearn.preprocessing import StandardScaler"
   ]
  },
  {
   "cell_type": "code",
   "execution_count": 47,
   "metadata": {},
   "outputs": [],
   "source": [
    "def linear_svm():\n",
    "    \n",
    "    bankdata = pd.read_csv('bill_authentication.csv') \n",
    "    \n",
    "    print(bankdata.shape,\"\\n\")\n",
    "    print(bankdata.head(),\"\\n\")\n",
    "    \n",
    "    X = bankdata.drop('Class', axis=1)  \n",
    "    y = bankdata['Class'] \n",
    " \n",
    "    X_train, X_test, y_train, y_test = train_test_split(X, y, test_size = 0.20)  \n",
    "    \n",
    "      \n",
    "    svclassifier = SVC(kernel='linear')  \n",
    "    svclassifier.fit(X_train, y_train) \n",
    "    y_pred = svclassifier.predict(X_test)  \n",
    "    \n",
    "    print(confusion_matrix(y_test,y_pred),\"\\n\")  \n",
    "    print(classification_report(y_test,y_pred),\"\\n\")  \n",
    "    print(\"Accuracy : \",accuracy_score(y_test, y_pred),\"\\n\")"
   ]
  },
  {
   "cell_type": "code",
   "execution_count": 48,
   "metadata": {},
   "outputs": [
    {
     "name": "stdout",
     "output_type": "stream",
     "text": [
      "(1372, 5) \n",
      "\n",
      "   Variance  Skewness  Curtosis  Entropy  Class\n",
      "0   3.62160    8.6661   -2.8073 -0.44699      0\n",
      "1   4.54590    8.1674   -2.4586 -1.46210      0\n",
      "2   3.86600   -2.6383    1.9242  0.10645      0\n",
      "3   3.45660    9.5228   -4.0112 -3.59440      0\n",
      "4   0.32924   -4.4552    4.5718 -0.98880      0 \n",
      "\n",
      "[[147   1]\n",
      " [  1 126]] \n",
      "\n",
      "              precision    recall  f1-score   support\n",
      "\n",
      "           0       0.99      0.99      0.99       148\n",
      "           1       0.99      0.99      0.99       127\n",
      "\n",
      "   micro avg       0.99      0.99      0.99       275\n",
      "   macro avg       0.99      0.99      0.99       275\n",
      "weighted avg       0.99      0.99      0.99       275\n",
      " \n",
      "\n",
      "Accuracy :  0.9927272727272727 \n",
      "\n"
     ]
    }
   ],
   "source": [
    "linear_svm()"
   ]
  },
  {
   "cell_type": "code",
   "execution_count": 49,
   "metadata": {},
   "outputs": [
    {
     "name": "stdout",
     "output_type": "stream",
     "text": [
      "\n",
      "Iris dataset\n",
      "\n",
      "   sepal-length  sepal-width  petal-length  petal-width        Class\n",
      "0           5.1          3.5           1.4          0.2  Iris-setosa\n",
      "1           4.9          3.0           1.4          0.2  Iris-setosa\n",
      "2           4.7          3.2           1.3          0.2  Iris-setosa\n",
      "3           4.6          3.1           1.5          0.2  Iris-setosa\n",
      "4           5.0          3.6           1.4          0.2  Iris-setosa\n"
     ]
    }
   ],
   "source": [
    "def import_iris():\n",
    "    url = \"https://archive.ics.uci.edu/ml/machine-learning-databases/iris/iris.data\"\n",
    "\n",
    "    # Assign colum names to the dataset\n",
    "    colnames = ['sepal-length', 'sepal-width', 'petal-length', 'petal-width', 'Class']\n",
    "\n",
    "    # Read dataset to pandas dataframe\n",
    "    irisdata = pd.read_csv(url, names=colnames) \n",
    "    \n",
    "    print(\"\\nIris dataset\\n\")\n",
    "    print(irisdata.head())\n",
    "\n",
    "    # process\n",
    "    X = irisdata.drop('Class', axis=1)  \n",
    "    y = irisdata['Class']  \n",
    "\n",
    "    # train\n",
    "    from sklearn.model_selection import train_test_split  \n",
    "    X_train, X_test, y_train, y_test = train_test_split(X, y, test_size = 0.20) \n",
    "    \n",
    "def polynomial_kernel():\n",
    "    \n",
    "    svc_polynomial_classifier = Pipeline([\n",
    "        (\"scaler\", StandardScaler()),\n",
    "        (\"svm_clf\", SVC(kernel=\"poly\", degree=8, coef0=1, C=10))\n",
    "    ])\n",
    " \n",
    "    svc_polynomial_classifier.fit(X_train, y_train) \n",
    "    y_pred = svc_polynomial_classifier.predict(X_test)  \n",
    "    \n",
    "    print(\"\\n\\n ---------------------- Polynomial Kernel ----------------------- \\n\")\n",
    "    print(confusion_matrix(y_test,y_pred),\"\\n\")  \n",
    "    print(classification_report(y_test,y_pred),\"\\n\")  \n",
    "    print(\"Accuracy : \",accuracy_score(y_test, y_pred),\"\\n\")\n",
    "    \n",
    "def gaussian_kernel():\n",
    "    svc_gaussian_classifier = Pipeline([\n",
    "        (\"scaler\", StandardScaler()),\n",
    "        (\"svm_clf\", SVC(kernel=\"rbf\", C=10))\n",
    "    ])\n",
    "    \n",
    "    svc_gaussian_classifier.fit(X_train, y_train) \n",
    "    y_pred = svc_gaussian_classifier.predict(X_test)  \n",
    "    \n",
    "    print(\"\\n\\n ---------------------- Gaussian Kernel ----------------------- \\n\")\n",
    "    print(confusion_matrix(y_test,y_pred),\"\\n\")  \n",
    "    print(classification_report(y_test,y_pred),\"\\n\")  \n",
    "    print(\"Accuracy : \",accuracy_score(y_test, y_pred),\"\\n\")\n",
    "    \n",
    "def sigmoid_kernel():\n",
    "    svc_sigmoid_classifier = Pipeline([\n",
    "        (\"scaler\", StandardScaler()),\n",
    "        (\"svm_clf\", SVC(kernel=\"sigmoid\", C=10))\n",
    "    ])\n",
    "    \n",
    "    svc_sigmoid_classifier.fit(X_train, y_train) \n",
    "    y_pred = svc_sigmoid_classifier.predict(X_test)  \n",
    "    \n",
    "    print(\"\\n\\n ---------------------- Sigmoid Kernel ----------------------- \\n\")\n",
    "    print(confusion_matrix(y_test,y_pred),\"\\n\")  \n",
    "    print(classification_report(y_test,y_pred),\"\\n\")  \n",
    "    print(\"Accuracy : \",accuracy_score(y_test, y_pred),\"\\n\")\n",
    "    \n",
    "def test():\n",
    "    import_iris()\n",
    "    orig_stdout = sys.stdout\n",
    "    f = open('result.txt', 'a+')\n",
    "    sys.stdout = f\n",
    "    \n",
    "    polynomial_kernel()\n",
    "    gaussian_kernel()\n",
    "    sigmoid_kernel()\n",
    "    \n",
    "    f.close()\n",
    "    sys.stdout = orig_stdout\n",
    "    \n",
    "test()"
   ]
  },
  {
   "cell_type": "code",
   "execution_count": null,
   "metadata": {},
   "outputs": [],
   "source": []
  }
 ],
 "metadata": {
  "kernelspec": {
   "display_name": "Python 3",
   "language": "python",
   "name": "python3"
  },
  "language_info": {
   "codemirror_mode": {
    "name": "ipython",
    "version": 3
   },
   "file_extension": ".py",
   "mimetype": "text/x-python",
   "name": "python",
   "nbconvert_exporter": "python",
   "pygments_lexer": "ipython3",
   "version": "3.7.1"
  }
 },
 "nbformat": 4,
 "nbformat_minor": 2
}
